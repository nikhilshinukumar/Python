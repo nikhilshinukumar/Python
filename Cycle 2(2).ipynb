{
  "nbformat": 4,
  "nbformat_minor": 0,
  "metadata": {
    "colab": {
      "name": "Untitled2.ipynb",
      "provenance": [],
      "collapsed_sections": []
    },
    "kernelspec": {
      "name": "python3",
      "display_name": "Python 3"
    }
  },
  "cells": [
    {
      "cell_type": "code",
      "metadata": {
        "id": "UN3xBdpY_yGF",
        "colab": {
          "base_uri": "https://localhost:8080/"
        },
        "outputId": "b9b9d27f-2e3f-4ee0-b56b-7027ac96b8f8"
      },
      "source": [
        "number=input(\"Enter your House Number : \")\n",
        "street=input(\"Enter your Street Name : \")\n",
        "town=input(\"Enter your Town Name : \")\n",
        "country=input(\"Enter your Country : \")\n",
        "postcode=input(\"Enter your Postcode : \")\n",
        "print(\"\\nAddress Details \\n\" + \"Street: \" + number + \" \" + street + \"\\nTown/City: \" + town + \"\\nCountry: \" + country + \"\\nPostcode: \" + postcode)"
      ],
      "execution_count": null,
      "outputs": [
        {
          "output_type": "stream",
          "text": [
            "Enter your House Number : 130\n",
            "Enter your Street Name : Koprakalam\n",
            "Enter your Town Name : Ponkunnam\n",
            "Enter your Country : India\n",
            "Enter your Postcode : 686506\n",
            "\n",
            "Address Details \n",
            "Street: 130 Koprakalam\n",
            "Town/City: Ponkunnam\n",
            "Country: India\n",
            "Postcode: 686506\n"
          ],
          "name": "stdout"
        }
      ]
    },
    {
      "cell_type": "code",
      "metadata": {
        "colab": {
          "base_uri": "https://localhost:8080/"
        },
        "id": "RLnb3PjW7Akc",
        "outputId": "0f1f5d38-b2d0-4d97-f239-11ed894fdcee"
      },
      "source": [
        "n1=float(input(\"Enter the first value : \"))\r\n",
        "n2=float(input(\"Enter the second value : \"))\r\n",
        "x=n1\r\n",
        "y=n2\r\n",
        "while(n2!=0):\r\n",
        "  temp=n2\r\n",
        "  n2=n1%n2\r\n",
        "  n1=temp\r\n",
        "gcd=n1\r\n",
        "print(\"GCD of\",x,\"and\",y,\"is\",gcd)"
      ],
      "execution_count": 1,
      "outputs": [
        {
          "output_type": "stream",
          "text": [
            "Enter the first value : 12\n",
            "Enter the second value : 10\n",
            "GCD of 12.0 and 10.0 is 2.0\n"
          ],
          "name": "stdout"
        }
      ]
    },
    {
      "cell_type": "code",
      "metadata": {
        "colab": {
          "base_uri": "https://localhost:8080/"
        },
        "id": "hdQw2xnI8Qt6",
        "outputId": "7113e11d-6ca5-4843-fad1-d982abe779f7"
      },
      "source": [
        "x=[]\r\n",
        "n=int(input(\"Enter list items : \"))\r\n",
        "for i in range(1,n+1):\r\n",
        "  a=int(input(\"Enter the value of %d item : \"%i))\r\n",
        "  x.append(a)\r\n",
        "for i in x:\r\n",
        "  if(i%2==0):\r\n",
        "    x.remove(i)\r\n",
        "print(\"Modified list after removing even numbers : \")\r\n",
        "print(x)"
      ],
      "execution_count": 4,
      "outputs": [
        {
          "output_type": "stream",
          "text": [
            "Enter list items : 5\n",
            "Enter the value of 1 item : 2\n",
            "Enter the value of 2 item : 3\n",
            "Enter the value of 3 item : 4\n",
            "Enter the value of 4 item : 6\n",
            "Enter the value of 5 item : 9\n",
            "Modified list after removing even numbers : \n",
            "[3, 6, 9]\n"
          ],
          "name": "stdout"
        }
      ]
    },
    {
      "cell_type": "code",
      "metadata": {
        "colab": {
          "base_uri": "https://localhost:8080/"
        },
        "id": "tyi0CZLm_U5F",
        "outputId": "63f45c37-18c4-401a-df88-184eca402b31"
      },
      "source": [
        "l=[]\r\n",
        "x=int(input(\"Enter the limit : \"))\r\n",
        "for i in range (1,x+1):\r\n",
        "  x=input(\"Enter first name : \")\r\n",
        "  l.append(x)\r\n",
        "  count=x.count('a')\r\n",
        "  print(\"Number of time 'a' present in name : \",count)"
      ],
      "execution_count": 11,
      "outputs": [
        {
          "output_type": "stream",
          "text": [
            "Enter the limit : 3\n",
            "Enter first name : ajai\n",
            "Number of time 'a' present in name :  2\n",
            "Enter first name : ajin\n",
            "Number of time 'a' present in name :  1\n",
            "Enter first name : anantharaj\n",
            "Number of time 'a' present in name :  4\n"
          ],
          "name": "stdout"
        }
      ]
    },
    {
      "cell_type": "code",
      "metadata": {
        "colab": {
          "base_uri": "https://localhost:8080/"
        },
        "id": "X2N--nimAs9V",
        "outputId": "300f7249-ed27-4940-b0a1-e244a49df2d3"
      },
      "source": [
        "x=[]\r\n",
        "a=int(input(\"enter limit for list1 : \"))\r\n",
        "for i in range(1,a+1):\r\n",
        "  a=int(input())\r\n",
        "  x.append(a)\r\n",
        "print(x)\r\n",
        "y=[]\r\n",
        "b=int(input(\"enter limit for list2 : \"))\r\n",
        "for i in range(1,b+1):\r\n",
        "  b=int(input())\r\n",
        "  y.append(b)\r\n",
        "print(y)\r\n",
        "if (len(x)==len(y)):\r\n",
        "  print(\"list1 and list2 are of same length i.e.\",len(x))\r\n",
        "else:\r\n",
        "  print(\"list1 and list2 are of different length.\")\r\n",
        "if (sum(x)==sum(y)):\r\n",
        "  print(\"list1 and list2 sums to the same value i.e.\",sum(x))\r\n",
        "else:\r\n",
        "  print(\"list1 and list2 sums up to different values.\")\r\n",
        "def common(x, y): \r\n",
        "    p=set(x) \r\n",
        "    q=set(y) \r\n",
        "    if len(p.intersection(q)) > 0: \r\n",
        "        return(p.intersection(q))   \r\n",
        "    else: \r\n",
        "        return(\"no common elements\")  \r\n",
        "print(\"value that occur in both lists is/are :\",common(x,y))"
      ],
      "execution_count": 14,
      "outputs": [
        {
          "output_type": "stream",
          "text": [
            "enter limit for list1 : 3\n",
            "2\n",
            "3\n",
            "4\n",
            "[2, 3, 4]\n",
            "enter limit for list2 : 3\n",
            "3\n",
            "1\n",
            "5\n",
            "[3, 1, 5]\n",
            "list1 and list2 are of same length i.e. 3\n",
            "list1 and list2 sums to the same value i.e. 9\n",
            "value that occur in both lists is/are : {3}\n"
          ],
          "name": "stdout"
        }
      ]
    },
    {
      "cell_type": "code",
      "metadata": {
        "colab": {
          "base_uri": "https://localhost:8080/"
        },
        "id": "t1G4qhzTEEIy",
        "outputId": "7d36fa05-0d58-4ab6-be68-ec417aa4b46b"
      },
      "source": [
        "str=input(\"Enter any string : \")\r\n",
        "def rep_ch(str1):\r\n",
        "  char=str1[0]\r\n",
        "  str1=str1.replace(char,'$')\r\n",
        "  str1=char+str1[1:]\r\n",
        "  return str1\r\n",
        "print(rep_ch(str))"
      ],
      "execution_count": 16,
      "outputs": [
        {
          "output_type": "stream",
          "text": [
            "Enter any string : anaconda\n",
            "an$cond$\n"
          ],
          "name": "stdout"
        }
      ]
    },
    {
      "cell_type": "code",
      "metadata": {
        "colab": {
          "base_uri": "https://localhost:8080/"
        },
        "id": "ngz9VGK2Fm9D",
        "outputId": "7a3aa868-d52c-4753-a32a-f8317be5dea8"
      },
      "source": [
        "c=[]\r\n",
        "x=int(input(\"Enter the limit for list : \"))\r\n",
        "for i in range (1,x+1):\r\n",
        "  a=input()\r\n",
        "  c.append(a)\r\n",
        "print(c)\r\n",
        "print(c[0],c[-1])"
      ],
      "execution_count": 18,
      "outputs": [
        {
          "output_type": "stream",
          "text": [
            "Enter the limit for list : 4\n",
            "Red\n",
            "Green\n",
            "Blue\n",
            "Black\n",
            "['Red', 'Green', 'Blue', 'Black']\n",
            "Red Black\n"
          ],
          "name": "stdout"
        }
      ]
    },
    {
      "cell_type": "code",
      "metadata": {
        "colab": {
          "base_uri": "https://localhost:8080/"
        },
        "id": "--2deKEQTKIm",
        "outputId": "1043f342-6471-4e5f-8fb9-f7558ab3a58a"
      },
      "source": [
        "a=int(input(\"Enter any integer : \"))\r\n",
        "n1=int(\"%s\" %a)\r\n",
        "n2=int(\"%s%s\" %(a,a))\r\n",
        "n3=int(\"%s%s%s\" %(a,a,a))\r\n",
        "print(\"value of n+nn+nnn is : \",n1+n2+n3)"
      ],
      "execution_count": 20,
      "outputs": [
        {
          "output_type": "stream",
          "text": [
            "Enter any integer : 3\n",
            "value of n+nn+nnn is :  369\n"
          ],
          "name": "stdout"
        }
      ]
    },
    {
      "cell_type": "code",
      "metadata": {
        "colab": {
          "base_uri": "https://localhost:8080/"
        },
        "id": "xTf6T8R4ZuwX",
        "outputId": "a379f079-eb28-49b0-8444-25f923543fb6"
      },
      "source": [
        "c1=[]\r\n",
        "x=int(input(\"Enter the limit of list 1 :\"))\r\n",
        "for i in range (1,x+1):\r\n",
        "  a=input()\r\n",
        "  c1.append(a)\r\n",
        "  p=set(c1)\r\n",
        "print(p)\r\n",
        "c2=[]\r\n",
        "y=int(input(\"Enter the limit of list 2 :\"))\r\n",
        "for i in range (1,y+1):\r\n",
        "  b=input()\r\n",
        "  c2.append(b)\r\n",
        "  q=set(c2)\r\n",
        "print(q)\r\n",
        "print(p.difference(q))"
      ],
      "execution_count": 26,
      "outputs": [
        {
          "output_type": "stream",
          "text": [
            "Enter the limit of list 1 :3\n",
            "red\n",
            "blue\n",
            "black\n",
            "{'red', 'blue', 'black'}\n",
            "Enter the limit of list 2 :3\n",
            "orange\n",
            "blue\n",
            "violet\n",
            "{'blue', 'orange', 'violet'}\n",
            "{'red', 'black'}\n"
          ],
          "name": "stdout"
        }
      ]
    },
    {
      "cell_type": "code",
      "metadata": {
        "colab": {
          "base_uri": "https://localhost:8080/"
        },
        "id": "czYYqpBTcuef",
        "outputId": "7351ffb5-0ee4-4b14-8f40-2ad336614edd"
      },
      "source": [
        "k1=input(\"Enter the first key : \")\r\n",
        "k2=input(\"Enter the second key : \")\r\n",
        "k3=input(\"Enter the third key : \")\r\n",
        "k4=input(\"Enter the fourth key : \")\r\n",
        "k5=input(\"Enter the fifth key : \")\r\n",
        "v1=input(\"Enter the first value : \")\r\n",
        "v2=input(\"Enter the second value : \")\r\n",
        "v3=input(\"Enter the third value : \")\r\n",
        "v4=input(\"Enter the fourth value : \")\r\n",
        "v5=input(\"Enter the fifth vaue : \")\r\n",
        "d={}\r\n",
        "d[k1]=v1\r\n",
        "d[k2]=v2\r\n",
        "d[k3]=v3\r\n",
        "d[k4]=v4\r\n",
        "d[k5]=v5\r\n",
        "l=list(d.items())\r\n",
        "l.sort()\r\n",
        "print(\"Ascending order is : \",l)\r\n",
        "l=list(d.items())\r\n",
        "l.sort(reverse =True)\r\n",
        "print(\"Dscending order is : \",l)"
      ],
      "execution_count": 29,
      "outputs": [
        {
          "output_type": "stream",
          "text": [
            "Enter the first key : 4\n",
            "Enter the second key : 2\n",
            "Enter the third key : 6\n",
            "Enter the fourth key : 3\n",
            "Enter the fifth key : 8\n",
            "Enter the first value : 7\n",
            "Enter the second value : 4\n",
            "Enter the third value : 6\n",
            "Enter the fourth value : 8\n",
            "Enter the fifth vaue : 1\n",
            "Ascending order is :  [('2', '4'), ('3', '8'), ('4', '7'), ('6', '6'), ('8', '1')]\n",
            "Dscending order is :  [('8', '1'), ('6', '6'), ('4', '7'), ('3', '8'), ('2', '4')]\n"
          ],
          "name": "stdout"
        }
      ]
    },
    {
      "cell_type": "code",
      "metadata": {
        "colab": {
          "base_uri": "https://localhost:8080/"
        },
        "id": "EJNvlg9thCtN",
        "outputId": "86b74ef7-33a5-42a4-9db5-54c58db61eee"
      },
      "source": [
        "x=input(\"Enter first string : \")\r\n",
        "y=input(\"Enter second string : \")\r\n",
        "def swapch(x,y):\r\n",
        "  a=y[:1]+x[1:]\r\n",
        "  b=x[:1]+y[1:]\r\n",
        "  return a+ ' '+b\r\n",
        "print(swapch(x,y))"
      ],
      "execution_count": 30,
      "outputs": [
        {
          "output_type": "stream",
          "text": [
            "Enter first string : Tone\n",
            "Enter second string : Sound\n",
            "Sone Tound\n"
          ],
          "name": "stdout"
        }
      ]
    }
  ]
}