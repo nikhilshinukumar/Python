{
  "nbformat": 4,
  "nbformat_minor": 0,
  "metadata": {
    "colab": {
      "name": "Untitled0.ipynb",
      "provenance": []
    },
    "kernelspec": {
      "name": "python3",
      "display_name": "Python 3"
    }
  },
  "cells": [
    {
      "cell_type": "code",
      "metadata": {
        "colab": {
          "base_uri": "https://localhost:8080/"
        },
        "id": "nXkMO17Nvz-h",
        "outputId": "51b793c0-28b0-4779-8a41-f2ca27408601"
      },
      "source": [
        "a=1 \r\n",
        "print(\"the value of\",a,\"is of the type\",type(a))\r\n",
        "b=\"hello\" \r\n",
        "print(\"the value of\",b,\"is of the type\",type(b))\r\n",
        "c=3.14 \r\n",
        "print(\"the value of\",c,\"is of the type\",type(c))\r\n",
        "d=2j\r\n",
        "print(\"the value of\",d,\"is of the type\",type(d))\r\n",
        "e={\"Python\",\"Data Structure\",\"Web Programming\"}\r\n",
        "print(\"the value of\",e,\"is ofthe type\",type(e))\r\n",
        "f=(\"Python\",\"Data Structure\",\"Web Programming\")\r\n",
        "print(\"the value of\",f,\"is of the type\",type(f))\r\n",
        "g=[\"Python\",\"Data Structure\",\"Web Programming\"]\r\n",
        "print(\"the value of\",g,\"is of the type\",type(g))\r\n",
        "h=range(10)\r\n",
        "print(\"the value of\",h,\"is of the type\",type(h))\r\n",
        "i=True\r\n",
        "print(\"the value of\",i,\"is of the type\",type(i))"
      ],
      "execution_count": 1,
      "outputs": [
        {
          "output_type": "stream",
          "text": [
            "the value of 1 is of the type <class 'int'>\n",
            "the value of hello is of the type <class 'str'>\n",
            "the value of 3.14 is of the type <class 'float'>\n",
            "the value of 2j is of the type <class 'complex'>\n",
            "the value of {'Web Programming', 'Data Structure', 'Python'} is ofthe type <class 'set'>\n",
            "the value of ('Python', 'Data Structure', 'Web Programming') is of the type <class 'tuple'>\n",
            "the value of ['Python', 'Data Structure', 'Web Programming'] is of the type <class 'list'>\n",
            "the value of range(0, 10) is of the type <class 'range'>\n",
            "the value of True is of the type <class 'bool'>\n"
          ],
          "name": "stdout"
        }
      ]
    },
    {
      "cell_type": "code",
      "metadata": {
        "colab": {
          "base_uri": "https://localhost:8080/"
        },
        "id": "tW5KolRWwf2S",
        "outputId": "cb4807a9-afc3-4dbd-b557-160735b39d7a"
      },
      "source": [
        "print(\"Hello World !\")"
      ],
      "execution_count": 2,
      "outputs": [
        {
          "output_type": "stream",
          "text": [
            "Hello World !\n"
          ],
          "name": "stdout"
        }
      ]
    },
    {
      "cell_type": "code",
      "metadata": {
        "colab": {
          "base_uri": "https://localhost:8080/"
        },
        "id": "m95IL_Zvwn6R",
        "outputId": "2b320501-eac6-4925-82b6-a0e03431c4f5"
      },
      "source": [
        "x=(input(\"Enter a Integer value : \"))\r\n",
        "print(x)"
      ],
      "execution_count": 3,
      "outputs": [
        {
          "output_type": "stream",
          "text": [
            "Enter a Integer value : 6\n",
            "6\n"
          ],
          "name": "stdout"
        }
      ]
    },
    {
      "cell_type": "code",
      "metadata": {
        "colab": {
          "base_uri": "https://localhost:8080/"
        },
        "id": "CSx8j2nRwuds",
        "outputId": "b745e9de-1d0e-4c2e-8e4a-5be91aeaeff8"
      },
      "source": [
        "a=int(input(\"Enter the Value of First Integer : \"))\r\n",
        "b=int(input(\"Enter the value of Second Integer : \"))\r\n",
        "c=a+b\r\n",
        "print(\"Sum :\",c)"
      ],
      "execution_count": 4,
      "outputs": [
        {
          "output_type": "stream",
          "text": [
            "Enter the Value of First Integer : 5\n",
            "Enter the value of Second Integer : 7\n",
            "Sum : 12\n"
          ],
          "name": "stdout"
        }
      ]
    },
    {
      "cell_type": "code",
      "metadata": {
        "colab": {
          "base_uri": "https://localhost:8080/"
        },
        "id": "52dtdMXBwz80",
        "outputId": "2fb378ca-45a7-462b-f516-043021a1d27d"
      },
      "source": [
        "a=float(input(\"Enter the First Float Number : \"))\r\n",
        "b=float(input(\"Enter the Second Float Number : \"))\r\n",
        "c=a*b\r\n",
        "print(\"Product:\",c)"
      ],
      "execution_count": 5,
      "outputs": [
        {
          "output_type": "stream",
          "text": [
            "Enter the First Float Number : 3.0\n",
            "Enter the Second Float Number : 6.0\n",
            "Product: 18.0\n"
          ],
          "name": "stdout"
        }
      ]
    },
    {
      "cell_type": "code",
      "metadata": {
        "colab": {
          "base_uri": "https://localhost:8080/"
        },
        "id": "APqBBiW0xDqe",
        "outputId": "9f6afb09-3dfb-468b-8837-f9dd91ad13b6"
      },
      "source": [
        "a=int(input(\"Enter the First Value : \"))\r\n",
        "b=int(input(\"Enter the Second Value : \"))\r\n",
        "q=a//b\r\n",
        "print(\"Quotient : \",q)\r\n",
        "r=a%b\r\n",
        "print(\"Remainder : \",r)"
      ],
      "execution_count": 6,
      "outputs": [
        {
          "output_type": "stream",
          "text": [
            "Enter the First Value : 17\n",
            "Enter the Second Value : 2\n",
            "Quotient :  8\n",
            "Remainder :  1\n"
          ],
          "name": "stdout"
        }
      ]
    },
    {
      "cell_type": "code",
      "metadata": {
        "colab": {
          "base_uri": "https://localhost:8080/"
        },
        "id": "FxlT3GqPxUcT",
        "outputId": "498ec4b9-970a-4e00-858c-0a09de7630a5"
      },
      "source": [
        "x=int(input(\"Enter the First Value : \"))\r\n",
        "y=int(input(\"Enter the Second Value : \"))\r\n",
        "print(\"Value of the First Number before Swapping : \",x)\r\n",
        "print(\"Value of the Second Number before Swapping : \",y)\r\n",
        "z=x\r\n",
        "x=y\r\n",
        "y=z\r\n",
        "print(\"Value of the First Number After Swapping : \",x)\r\n",
        "print(\"Value of the Second Number After Swapping :\",y)"
      ],
      "execution_count": 7,
      "outputs": [
        {
          "output_type": "stream",
          "text": [
            "Enter the First Value : 6\n",
            "Enter the Second Value : 7\n",
            "Value of the First Number before Swapping :  6\n",
            "Value of the Second Number before Swapping :  7\n",
            "Value of the First Number After Swapping :  7\n",
            "Value of the Second Number After Swapping : 6\n"
          ],
          "name": "stdout"
        }
      ]
    },
    {
      "cell_type": "code",
      "metadata": {
        "colab": {
          "base_uri": "https://localhost:8080/"
        },
        "id": "9T34Ev1Rxc7v",
        "outputId": "c4d8dae9-02a4-4cf9-aa20-408863b61efd"
      },
      "source": [
        "a=int(input(\"Enter a Number : \"))\r\n",
        "b=a%2\r\n",
        "if b==0:\r\n",
        "  print(a,\"is an Even number\")\r\n",
        "else:\r\n",
        "   print(a,\"is an Odd number\")"
      ],
      "execution_count": 8,
      "outputs": [
        {
          "output_type": "stream",
          "text": [
            "Enter a Number : 5\n",
            "5 is an Odd number\n"
          ],
          "name": "stdout"
        }
      ]
    },
    {
      "cell_type": "code",
      "metadata": {
        "colab": {
          "base_uri": "https://localhost:8080/"
        },
        "id": "SaI5TWz5xk-2",
        "outputId": "15f76752-d956-44fe-d013-c278924fa839"
      },
      "source": [
        "ch=input(\"Enter any character : \")\r\n",
        "if(ch=='A'or ch=='E'or ch=='I'or ch=='O'or ch=='U'or ch=='a'or ch=='e'or ch=='i'or ch=='o'or ch=='u'):\r\n",
        "  print(ch,\"is a Vowel.\")\r\n",
        "else:\r\n",
        "  print(ch,\"is a Consonant.\")"
      ],
      "execution_count": 9,
      "outputs": [
        {
          "output_type": "stream",
          "text": [
            "Enter any character : r\n",
            "r is a Consonant.\n"
          ],
          "name": "stdout"
        }
      ]
    },
    {
      "cell_type": "code",
      "metadata": {
        "colab": {
          "base_uri": "https://localhost:8080/"
        },
        "id": "4XKwZkXPxy3u",
        "outputId": "07849f9a-e892-46b3-cb45-855e13d8ef22"
      },
      "source": [
        "x=float(input(\"Enter the First Number : \"))\r\n",
        "y=float(input(\"Enter the Second Number : \"))\r\n",
        "z=float(input(\"Enter the Third Number : \"))\r\n",
        "if (x>y) and (x>z):\r\n",
        "  print(x,\"is the Largest Number.\")\r\n",
        "elif(y>x) and (y>z):\r\n",
        "  print(y,\"is the Largest Number.\")\r\n",
        "else:\r\n",
        "  print(z,\"is the Largest Number.\")"
      ],
      "execution_count": 10,
      "outputs": [
        {
          "output_type": "stream",
          "text": [
            "Enter the First Number : 6\n",
            "Enter the Second Number : 10\n",
            "Enter the Third Number : 4\n",
            "10.0 is the Largest Number.\n"
          ],
          "name": "stdout"
        }
      ]
    },
    {
      "cell_type": "code",
      "metadata": {
        "colab": {
          "base_uri": "https://localhost:8080/"
        },
        "id": "aFih2JNSx94U",
        "outputId": "3f8c73ca-4f7c-4e32-a345-1254b81c76c2"
      },
      "source": [
        "year=int(input(\"Enter the Year : \"))\r\n",
        "if ((year%400==0) or ((year%4==0) and (year%100!=0))):\r\n",
        "   print(year,\"is a Leap Year.\")\r\n",
        "else:  \r\n",
        "  print(year,\"is not a Leap Year.\")"
      ],
      "execution_count": 11,
      "outputs": [
        {
          "output_type": "stream",
          "text": [
            "Enter the Year : 2012\n",
            "2012 is a Leap Year.\n"
          ],
          "name": "stdout"
        }
      ]
    },
    {
      "cell_type": "code",
      "metadata": {
        "colab": {
          "base_uri": "https://localhost:8080/"
        },
        "id": "L32eY5FByBaD",
        "outputId": "52ac4264-6485-4795-b7e9-822b84bb3dfc"
      },
      "source": [
        "x=int(input(\"Enter a number : \"))\r\n",
        "if x>0:\r\n",
        "  print(x,\"is a Positive Number.\")\r\n",
        "else:\r\n",
        "  print(x,\"is Negative Number.\")"
      ],
      "execution_count": 12,
      "outputs": [
        {
          "output_type": "stream",
          "text": [
            "Enter a number : -10\n",
            "-10 is Negative Number.\n"
          ],
          "name": "stdout"
        }
      ]
    },
    {
      "cell_type": "code",
      "metadata": {
        "colab": {
          "base_uri": "https://localhost:8080/"
        },
        "id": "cgCeVNVNyMSh",
        "outputId": "569c585b-1584-47cf-f2d8-16761c08793d"
      },
      "source": [
        "n=int(input(\"Enter a Number : \"))\r\n",
        "if (n<0):\r\n",
        "  print(\"Print a Positive Number\")\r\n",
        "else:\r\n",
        "  sum=0\r\n",
        "  while(n>0):\r\n",
        "    sum+=n\r\n",
        "    n-=1\r\n",
        "  print(\"Sum of Natural Numbers is :\",sum)"
      ],
      "execution_count": 13,
      "outputs": [
        {
          "output_type": "stream",
          "text": [
            "Enter a Number : 10\n",
            "Sum of Natural Numbers is : 55\n"
          ],
          "name": "stdout"
        }
      ]
    },
    {
      "cell_type": "code",
      "metadata": {
        "colab": {
          "base_uri": "https://localhost:8080/"
        },
        "id": "ywnAEGB2yTFX",
        "outputId": "3e9d39e6-1649-4cc9-d709-e27ca60f31ce"
      },
      "source": [
        "n=int(input(\"Enter a Number : \"))\r\n",
        "fact=1\r\n",
        "for i in range(1,n+1):\r\n",
        "  fact=fact*i\r\n",
        "print(\"Factorial of\",n,\"is\",fact)"
      ],
      "execution_count": 15,
      "outputs": [
        {
          "output_type": "stream",
          "text": [
            "Enter a Number : 6\n",
            "Factorial of 6 is 720\n"
          ],
          "name": "stdout"
        }
      ]
    },
    {
      "cell_type": "code",
      "metadata": {
        "colab": {
          "base_uri": "https://localhost:8080/"
        },
        "id": "LOZp3Wopyf_J",
        "outputId": "b459e422-2381-474a-8ab6-8864f2502354"
      },
      "source": [
        "a=int(input(\"Show the Multiplication Table : \"))\r\n",
        "for i in range(1,11):\r\n",
        "  print(a,\"x\",i,\"=\",a*i)"
      ],
      "execution_count": 17,
      "outputs": [
        {
          "output_type": "stream",
          "text": [
            "Show the Multiplication Table : 6\n",
            "6 x 1 = 6\n",
            "6 x 2 = 12\n",
            "6 x 3 = 18\n",
            "6 x 4 = 24\n",
            "6 x 5 = 30\n",
            "6 x 6 = 36\n",
            "6 x 7 = 42\n",
            "6 x 8 = 48\n",
            "6 x 9 = 54\n",
            "6 x 10 = 60\n"
          ],
          "name": "stdout"
        }
      ]
    },
    {
      "cell_type": "code",
      "metadata": {
        "colab": {
          "base_uri": "https://localhost:8080/"
        },
        "id": "azZEqKcvyoAE",
        "outputId": "f183cf9d-e558-40bf-9687-c258761c282a"
      },
      "source": [
        "n=int(input(\"Enter any Number : \"))\r\n",
        "x,y =0,1\r\n",
        "count=0\r\n",
        "if n<=0:\r\n",
        "  print(\"Please enter a Positive Number.\")\r\n",
        "elif n==1:\r\n",
        "  print(\"Fibonacci Sequence upto\",n,\":\")\r\n",
        "  print(x)\r\n",
        "else:\r\n",
        "  print(\"Fibonacci Sequence : \")\r\n",
        "  while count<n:\r\n",
        "    print(x)\r\n",
        "    z=x+y\r\n",
        "    x=y\r\n",
        "    y=z\r\n",
        "    count+=1"
      ],
      "execution_count": 18,
      "outputs": [
        {
          "output_type": "stream",
          "text": [
            "Enter any Number : 10\n",
            "Fibonacci Sequence : \n",
            "0\n",
            "1\n",
            "1\n",
            "2\n",
            "3\n",
            "5\n",
            "8\n",
            "13\n",
            "21\n",
            "34\n"
          ],
          "name": "stdout"
        }
      ]
    },
    {
      "cell_type": "code",
      "metadata": {
        "colab": {
          "base_uri": "https://localhost:8080/"
        },
        "id": "hbTIlaKDytxv",
        "outputId": "823fc24c-308e-4f25-809a-b3edcfa4cdf1"
      },
      "source": [
        "def find_lcm(x,y):\r\n",
        "  if x>y:\r\n",
        "    greater=x\r\n",
        "  else:\r\n",
        "    greater=y\r\n",
        "  while(True):\r\n",
        "     if ((greater%x==0) and (greater%y==0)):\r\n",
        "       lcm=greater\r\n",
        "       break\r\n",
        "     greater+=1\r\n",
        "  return lcm\r\n",
        "a=int(input(\"Enter the First Number : \"))\r\n",
        "b=int(input(\"Enter the Second Number : \"))\r\n",
        "print(\"The LCM is : \", find_lcm(a,b))"
      ],
      "execution_count": 19,
      "outputs": [
        {
          "output_type": "stream",
          "text": [
            "Enter the First Number : 6\n",
            "Enter the Second Number : 10\n",
            "The LCM is :  30\n"
          ],
          "name": "stdout"
        }
      ]
    },
    {
      "cell_type": "code",
      "metadata": {
        "colab": {
          "base_uri": "https://localhost:8080/"
        },
        "id": "5gv8JQS_y4uU",
        "outputId": "6ba4b3b8-4554-4711-a4d1-7b49f3eb4f7e"
      },
      "source": [
        "n=int(input(\"Enter a Number : \"))\r\n",
        "count=0\r\n",
        "while (n>0):\r\n",
        "  count=count+1\r\n",
        "  n=n//10\r\n",
        "print(\"The Number of Digits in the given Number is : \",count)"
      ],
      "execution_count": 20,
      "outputs": [
        {
          "output_type": "stream",
          "text": [
            "Enter a Number : 6000\n",
            "The Number of Digits in the given Number is :  4\n"
          ],
          "name": "stdout"
        }
      ]
    },
    {
      "cell_type": "code",
      "metadata": {
        "colab": {
          "base_uri": "https://localhost:8080/"
        },
        "id": "uwqd8n6DzC1D",
        "outputId": "9ab2bdbd-74b2-456e-93ab-a0562d824c2e"
      },
      "source": [
        "a=int(input(\"Enter the Number to be Reversed : \"))\r\n",
        "rev=0\r\n",
        "while a>0:\r\n",
        " rev=(rev*10)+(a%10)\r\n",
        " a=a//10\r\n",
        "print(\"Reverse is\",rev)"
      ],
      "execution_count": 22,
      "outputs": [
        {
          "output_type": "stream",
          "text": [
            "Enter the Number to be Reversed : 5678\n",
            "Reverse is 8765\n"
          ],
          "name": "stdout"
        }
      ]
    },
    {
      "cell_type": "code",
      "metadata": {
        "colab": {
          "base_uri": "https://localhost:8080/"
        },
        "id": "CYeTMFTRzNVm",
        "outputId": "34e01966-de7c-4816-fd9c-0845794b7ae0"
      },
      "source": [
        "x=int(input(\"Enter a positive number : \"))\r\n",
        "e=int(input(\"Enter the value of the exponent : \"))\r\n",
        "p=1\r\n",
        "for i in range(1,e+1):\r\n",
        "  p=p*x\r\n",
        "print(\"The power of\",x,\"^\",e,\"is\",p)"
      ],
      "execution_count": 23,
      "outputs": [
        {
          "output_type": "stream",
          "text": [
            "Enter a positive number : 12\n",
            "Enter the value of the exponent : 2\n",
            "The power of 12 ^ 2 is 144\n"
          ],
          "name": "stdout"
        }
      ]
    },
    {
      "cell_type": "code",
      "metadata": {
        "colab": {
          "base_uri": "https://localhost:8080/"
        },
        "id": "_VF6EWNfzUws",
        "outputId": "652635f7-0730-45f6-9d66-b47843c4bd56"
      },
      "source": [
        "n=int(input(\"Enter the number : \"))\r\n",
        "rev=0\r\n",
        "temp=n\r\n",
        "while (temp>0):\r\n",
        "  r=temp%10\r\n",
        "  rev=(rev*10)+r\r\n",
        "  temp=temp//10\r\n",
        "print(\"Reverse of the given number is : \",rev)\r\n",
        "if (n==rev):\r\n",
        "  print(n,\"is a palindrome number.\")\r\n",
        "else:\r\n",
        "  print(n,\"is not a palindrome.\")"
      ],
      "execution_count": 24,
      "outputs": [
        {
          "output_type": "stream",
          "text": [
            "Enter the number : 121\n",
            "Reverse of the given number is :  121\n",
            "121 is a palindrome number.\n"
          ],
          "name": "stdout"
        }
      ]
    }
  ]
}