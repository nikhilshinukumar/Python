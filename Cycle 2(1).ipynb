{
  "nbformat": 4,
  "nbformat_minor": 0,
  "metadata": {
    "colab": {
      "name": "Untitled1.ipynb",
      "provenance": [],
      "collapsed_sections": []
    },
    "kernelspec": {
      "name": "python3",
      "display_name": "Python 3"
    }
  },
  "cells": [
    {
      "cell_type": "code",
      "metadata": {
        "colab": {
          "base_uri": "https://localhost:8080/"
        },
        "id": "qtX2c0gfUr-9",
        "outputId": "f190b80a-f306-4351-841e-278446c02d1e"
      },
      "source": [
        "s=int(input(\"Enter the starting year : \"))\r\n",
        "e=int(input(\"Enter the ending year : \"))\r\n",
        "print(\"Leap years between\",s,\"and\",e)\r\n",
        "while(s<=e):\r\n",
        "  if((s%400==0) or ((s%4==0) and (s%100!=0))):\r\n",
        "    print(s)\r\n",
        "  s=s+1"
      ],
      "execution_count": 16,
      "outputs": [
        {
          "output_type": "stream",
          "text": [
            "Enter the starting year : 2000\n",
            "Enter the ending year : 2021\n",
            "Leap years between 2000 and 2021\n",
            "2000\n",
            "2004\n",
            "2008\n",
            "2012\n",
            "2016\n",
            "2020\n"
          ],
          "name": "stdout"
        }
      ]
    },
    {
      "cell_type": "code",
      "metadata": {
        "colab": {
          "base_uri": "https://localhost:8080/"
        },
        "id": "CBGNErNNduh-",
        "outputId": "d1913a35-f3e0-4b35-8ccf-87c0d7112d54"
      },
      "source": [
        "x=[]\r\n",
        "n=int(input(\"Enter the list item quantity : \"))\r\n",
        "for i in range(1,n+1):\r\n",
        "  a=int(input(\"Enter the value of %d items :\"%i))\r\n",
        "  x.append(a)\r\n",
        "y=[num for num in x if num >= 0]\r\n",
        "print(\"Intial list of integers :\",x)\r\n",
        "print(\"Modified list of positive number :\",y)"
      ],
      "execution_count": 19,
      "outputs": [
        {
          "output_type": "stream",
          "text": [
            "Enter the list item quantity : 3\n",
            "Enter the value of 1 items :-5\n",
            "Enter the value of 2 items :-2\n",
            "Enter the value of 3 items :10\n",
            "Intial list of integers : [-5, -2, 10]\n",
            "Modified list of positive number : [10]\n"
          ],
          "name": "stdout"
        }
      ]
    },
    {
      "cell_type": "code",
      "metadata": {
        "colab": {
          "base_uri": "https://localhost:8080/"
        },
        "id": "tlfE1-Jmf8Ik",
        "outputId": "487e9412-913d-49d8-a493-84b7bf9f7bda"
      },
      "source": [
        "x=[]\r\n",
        "n=int(input(\"Enter the list item quantity :\"))\r\n",
        "for i in range(1,n+1):\r\n",
        "  a=int(input(\"Enter the value of %d items :\"%i))\r\n",
        "  x.append(a)\r\n",
        "b=(num**2 for num in x)\r\n",
        "print(\"Intial list of numbers :\",x)\r\n",
        "y=list(b)\r\n",
        "print(\"Square list of n numbers :\",y)"
      ],
      "execution_count": 22,
      "outputs": [
        {
          "output_type": "stream",
          "text": [
            "Enter the list item quantity :4\n",
            "Enter the value of 1 items :3\n",
            "Enter the value of 2 items :4\n",
            "Enter the value of 3 items :5\n",
            "Enter the value of 4 items :6\n",
            "Intial list of numbers : [3, 4, 5, 6]\n",
            "Square list of n numbers : [9, 16, 25, 36]\n"
          ],
          "name": "stdout"
        }
      ]
    },
    {
      "cell_type": "code",
      "metadata": {
        "colab": {
          "base_uri": "https://localhost:8080/"
        },
        "id": "gwa7g5Jckytw",
        "outputId": "8d4df69a-5b01-4671-b221-afb35beb0752"
      },
      "source": [
        "w=input(\"Enter any word : \")\r\n",
        "v=[l for l in w if l in 'aeiou']\r\n",
        "print(\"List of words in \",w,\":\",v)"
      ],
      "execution_count": 24,
      "outputs": [
        {
          "output_type": "stream",
          "text": [
            "Enter any word : teeth\n",
            "List of words in  teeth : ['e', 'e']\n"
          ],
          "name": "stdout"
        }
      ]
    },
    {
      "cell_type": "code",
      "metadata": {
        "colab": {
          "base_uri": "https://localhost:8080/"
        },
        "id": "OYjeTUwkmLTI",
        "outputId": "b2cbbf17-8a30-4bf3-ab42-55efecf106e5"
      },
      "source": [
        "w=input(\"Enter any word : \")\r\n",
        "for l in range(len(w)):\r\n",
        "  print(\"ASCII value is\",w[l],\"is\",ord(w[l]))"
      ],
      "execution_count": 25,
      "outputs": [
        {
          "output_type": "stream",
          "text": [
            "Enter any word : enemy\n",
            "ASCII value is e is 101\n",
            "ASCII value is n is 110\n",
            "ASCII value is e is 101\n",
            "ASCII value is m is 109\n",
            "ASCII value is y is 121\n"
          ],
          "name": "stdout"
        }
      ]
    },
    {
      "cell_type": "code",
      "metadata": {
        "colab": {
          "base_uri": "https://localhost:8080/"
        },
        "id": "uDnv9W8En6yD",
        "outputId": "39ccc6d8-1d54-4be3-a149-b16c2bf684c6"
      },
      "source": [
        "def word_count(str):\r\n",
        "  counts=dict()\r\n",
        "  words=str.split()\r\n",
        "  for word in words:\r\n",
        "    if word in counts:\r\n",
        "      counts[word]+=1\r\n",
        "    else:\r\n",
        "      counts[word]=1\r\n",
        "  return counts\r\n",
        "str=input(\"Enter any text : \")\r\n",
        "print(word_count(str))"
      ],
      "execution_count": 27,
      "outputs": [
        {
          "output_type": "stream",
          "text": [
            "Enter any text : Twinkle Twinkle little star\n",
            "{'Twinkle': 2, 'little': 1, 'star': 1}\n"
          ],
          "name": "stdout"
        }
      ]
    },
    {
      "cell_type": "code",
      "metadata": {
        "colab": {
          "base_uri": "https://localhost:8080/"
        },
        "id": "NEgBY6XOpmX3",
        "outputId": "029c33d2-6a46-4365-c4fa-5d5450b5274c"
      },
      "source": [
        "x=[]\r\n",
        "n=int(input(\"Enter any integers : \"))\r\n",
        "for i in range(1,n+1):\r\n",
        "  a=int(input())\r\n",
        "  if (a>100):\r\n",
        "    x.append('over')\r\n",
        "  else:\r\n",
        "    x.append(a)\r\n",
        "print(\"Modified list :\",x)"
      ],
      "execution_count": 38,
      "outputs": [
        {
          "output_type": "stream",
          "text": [
            "Enter any integers : 4\n",
            "30\n",
            "60\n",
            "120\n",
            "100\n",
            "Modified list : [30, 60, 'over', 100]\n"
          ],
          "name": "stdout"
        }
      ]
    },
    {
      "cell_type": "code",
      "metadata": {
        "colab": {
          "base_uri": "https://localhost:8080/"
        },
        "id": "92z8kzmRvGbU",
        "outputId": "11af318b-a447-4d98-c49a-bbd967f4ed96"
      },
      "source": [
        "def change(str):\r\n",
        "  return str[-1:] + str[1:-1] + str[:1]\r\n",
        "str=input(\"Enter any string : \")\r\n",
        "print(\"Modified string : \",change(str))"
      ],
      "execution_count": 41,
      "outputs": [
        {
          "output_type": "stream",
          "text": [
            "Enter any string : python\n",
            "Modified string :  nythop\n"
          ],
          "name": "stdout"
        }
      ]
    },
    {
      "cell_type": "code",
      "metadata": {
        "colab": {
          "base_uri": "https://localhost:8080/"
        },
        "id": "eHrxpSBexTLu",
        "outputId": "4b870bc6-55e4-48ee-85ec-18248f81a6ad"
      },
      "source": [
        "r=int(input(\"Enter the radius of the circle : \"))\r\n",
        "print(\"Modified string : \",3.14*r*r)"
      ],
      "execution_count": 48,
      "outputs": [
        {
          "output_type": "stream",
          "text": [
            "Enter the radius of the circle : 5\n",
            "Modified string :  78.5\n"
          ],
          "name": "stdout"
        }
      ]
    },
    {
      "cell_type": "code",
      "metadata": {
        "colab": {
          "base_uri": "https://localhost:8080/"
        },
        "id": "dHGTH2EhyfNR",
        "outputId": "f4e69369-1cb4-41fe-a287-733e408bc9bf"
      },
      "source": [
        "a=float(input(\"Enter the first value : \"))\r\n",
        "b=float(input(\"Enter the second value : \"))\r\n",
        "c=float(input(\"Enter the third value : \"))\r\n",
        "if (a>b and a>c):\r\n",
        "  print(a,\"is bigger than both\",b,\"and\",c)\r\n",
        "elif (b>a and b>c):\r\n",
        "  print(b,\"is bigger than both\",a,\"and\",c)\r\n",
        "elif (c>b and c>a):\r\n",
        "  print(c,\"is bigger than both\",a,\"and\",b)\r\n",
        "else:\r\n",
        "  print(\"Either any two values or all three values are equal.\")"
      ],
      "execution_count": 51,
      "outputs": [
        {
          "output_type": "stream",
          "text": [
            "Enter the first value : 7\n",
            "Enter the second value : 6\n",
            "Enter the third value : 5\n",
            "7.0 is bigger than both 6.0 and 5.0\n"
          ],
          "name": "stdout"
        }
      ]
    },
    {
      "cell_type": "code",
      "metadata": {
        "colab": {
          "base_uri": "https://localhost:8080/"
        },
        "id": "OhD6YjyB0s3Y",
        "outputId": "2e6c8ea1-3b46-4d39-a1bb-f49ea9668a0b"
      },
      "source": [
        "f=input(\"Enter a file name : \")\r\n",
        "x=f.split(\".\")\r\n",
        "print(\"Extension of file is :\",x[-1])"
      ],
      "execution_count": 52,
      "outputs": [
        {
          "output_type": "stream",
          "text": [
            "Enter a file name : rock.rte\n",
            "Extension of file is : rte\n"
          ],
          "name": "stdout"
        }
      ]
    },
    {
      "cell_type": "code",
      "metadata": {
        "colab": {
          "base_uri": "https://localhost:8080/"
        },
        "id": "dpXeDN2_1WIV",
        "outputId": "a7eee6e0-396a-43cc-a20e-c613de65a5ab"
      },
      "source": [
        "k1=input(\"Enter the first key : \")\r\n",
        "k2=input(\"Enter the second key : \")\r\n",
        "v1=input(\"Enter the first value : \")\r\n",
        "v2=input(\"Enter the second value : \")\r\n",
        "dict1={}\r\n",
        "dict2={}\r\n",
        "dict1[k1]=v1\r\n",
        "dict2[k2]=v2\r\n",
        "def merge_dictionaries(x,y):\r\n",
        "  z={**x,**y}\r\n",
        "  print(\"Merged dictionary is : \")\r\n",
        "  return z\r\n",
        "print(merge_dictionaries(dict1,dict2))"
      ],
      "execution_count": 54,
      "outputs": [
        {
          "output_type": "stream",
          "text": [
            "Enter the first key : dry\n",
            "Enter the second key : run\n",
            "Enter the first value : wet\n",
            "Enter the second value : move\n",
            "Merged dictionary is : \n",
            "{'dry': 'wet', 'run': 'move'}\n"
          ],
          "name": "stdout"
        }
      ]
    }
  ]
}