{
  "nbformat": 4,
  "nbformat_minor": 0,
  "metadata": {
    "colab": {
      "name": "Cycle 3.ipynb",
      "provenance": []
    },
    "kernelspec": {
      "name": "python3",
      "display_name": "Python 3"
    }
  },
  "cells": [
    {
      "cell_type": "code",
      "metadata": {
        "colab": {
          "base_uri": "https://localhost:8080/"
        },
        "id": "YrtHzfxL5WLH",
        "outputId": "ff99a02d-b224-4ec0-95a6-81cf6f1ce9bc"
      },
      "source": [
        "#3) Find the sum of all items in a list .\r\n",
        "\r\n",
        "num=int(input(\"Enter the total number to be added : \"))\r\n",
        "l1=list()\r\n",
        "for n in range (1,num + 1):\r\n",
        "  numbers=int(input(\"Enter the value of %d item : \" %n))\r\n",
        "  l1.append(numbers)\r\n",
        "  s2=sum(l1)  \r\n",
        "print(\"Sum of the values entered is : \", s2)"
      ],
      "execution_count": 2,
      "outputs": [
        {
          "output_type": "stream",
          "text": [
            "Enter the total number to be added : 4\n",
            "Enter the value of 1 item : 5\n",
            "Enter the value of 2 item : 5\n",
            "Enter the value of 3 item : 5\n",
            "Enter the value of 4 item : 5\n",
            "Sum of the values entered is :  20\n"
          ],
          "name": "stdout"
        }
      ]
    },
    {
      "cell_type": "code",
      "metadata": {
        "colab": {
          "base_uri": "https://localhost:8080/"
        },
        "id": "1D_Y4i635gq8",
        "outputId": "f2f6809b-ef0c-4ad0-e05f-cadb141c4c95"
      },
      "source": [
        "#2) Generate Fibonacci series of N terms.\r\n",
        "\r\n",
        "n=int(input(\"Enter the value of N : \"))\r\n",
        "a=0\r\n",
        "b=1\r\n",
        "sum=0\r\n",
        "count=1\r\n",
        "print(\"fibonacci series : \")\r\n",
        "while (count<=n):\r\n",
        "  print(sum,end=\" \")\r\n",
        "  count+=1\r\n",
        "  a=b\r\n",
        "  b=sum\r\n",
        "  sum=a+b"
      ],
      "execution_count": 3,
      "outputs": [
        {
          "output_type": "stream",
          "text": [
            "Enter the value of N : 5\n",
            "fibonacci series : \n",
            "0 1 1 2 3 "
          ],
          "name": "stdout"
        }
      ]
    },
    {
      "cell_type": "code",
      "metadata": {
        "colab": {
          "base_uri": "https://localhost:8080/"
        },
        "id": "SeUCUhGK6JKe",
        "outputId": "3c04cbf5-a49f-4915-9257-a23c657a7e05"
      },
      "source": [
        "#5) Display the given pyramid with step number accepted from user. Eg: N=4\r\n",
        "\r\n",
        "def py(n):\r\n",
        "  x=1\r\n",
        "  for i in range(1, n+1):\r\n",
        "    for j in range(1, i+1):\r\n",
        "      print(x, end=\" \")\r\n",
        "      x=x+i\r\n",
        "    x=i+1\r\n",
        "    print(\"\\r\")\r\n",
        " \r\n",
        "n=int(input(\"Enter the limit : \"))\r\n",
        "py(n)"
      ],
      "execution_count": 5,
      "outputs": [
        {
          "output_type": "stream",
          "text": [
            "Enter the limit : 6\n",
            "1 \n",
            "2 4 \n",
            "3 6 9 \n",
            "4 8 12 16 \n",
            "5 10 15 20 25 \n",
            "6 12 18 24 30 36 \n"
          ],
          "name": "stdout"
        }
      ]
    },
    {
      "cell_type": "code",
      "metadata": {
        "colab": {
          "base_uri": "https://localhost:8080/"
        },
        "id": "sP7wLOni6iK-",
        "outputId": "0c4b2dfe-b367-4277-fac5-4bec15198e9d"
      },
      "source": [
        "#1) Program to find the factorial of a number in python.\r\n",
        "\r\n",
        "n=int(input(\"Enter any number : \"))\r\n",
        "fact=1\r\n",
        "i=1\r\n",
        "while i<=n:\r\n",
        "\tfact=fact*i\r\n",
        "\ti=i+1\r\n",
        "print(\"factorial of\",n,\"is\",fact)"
      ],
      "execution_count": 7,
      "outputs": [
        {
          "output_type": "stream",
          "text": [
            "Enter any number : 12\n",
            "factorial of 12 is 479001600\n"
          ],
          "name": "stdout"
        }
      ]
    },
    {
      "cell_type": "code",
      "metadata": {
        "id": "MP0rKj3H7HdK"
      },
      "source": [
        "#6) Count the number of characters (character frequency) in a string.\r\n",
        "\r\n",
        "def freq(s):\r\n",
        "  s=s.lower()\r\n",
        "  dict={}\r\n",
        "  for ch in s :\r\n",
        "    keys = dict.keys()\r\n",
        "    if ch in keys :\r\n",
        "      dict[ch]+=1\r\n",
        "    else:\r\n",
        "      dict[ch]=1\r\n",
        "  return dict\r\n",
        "s=input(\"Enter any string : \")\r\n",
        "print(\"The character frequency of the given string\",s,\"are :\")\r\n",
        "print(freq(s))"
      ],
      "execution_count": null,
      "outputs": []
    },
    {
      "cell_type": "code",
      "metadata": {
        "colab": {
          "base_uri": "https://localhost:8080/"
        },
        "id": "G7iikoLm8zjt",
        "outputId": "28ca61a7-31a7-43bf-ab64-0395c369077b"
      },
      "source": [
        "#4) Generate a list of four digit numbers in a given range with all their digits even and the number is a perfect square.\r\n",
        "\r\n",
        "for i in range(1000,10000):\r\n",
        "  for j in range(32,100):\r\n",
        "    if i==j*j:\r\n",
        "      a=str(i)\r\n",
        "      if (int(a[0])%2==0 and int(a[1])%2==0 and int(a[2])%2==0 and int(a[3])%2==0):\r\n",
        "        print(i)"
      ],
      "execution_count": 9,
      "outputs": [
        {
          "output_type": "stream",
          "text": [
            "4624\n",
            "6084\n",
            "6400\n",
            "8464\n"
          ],
          "name": "stdout"
        }
      ]
    },
    {
      "cell_type": "code",
      "metadata": {
        "colab": {
          "base_uri": "https://localhost:8080/"
        },
        "id": "TOeG76jR8_bF",
        "outputId": "a9eb9221-baa0-48e3-db41-6f70d200e158"
      },
      "source": [
        "#7) Add ‘ing’ at the end of a given string. If it already ends with ‘ing’, then add ‘ly’.\r\n",
        "\r\n",
        "s=input(\"Enter any string : \")\r\n",
        "if s.endswith(\"ing\") :\r\n",
        "  s+=\"ly\"\r\n",
        "else :\r\n",
        "  s+=\"ing\"\r\n",
        "print(\"Modified string : \",s)"
      ],
      "execution_count": 10,
      "outputs": [
        {
          "output_type": "stream",
          "text": [
            "Enter any string : Rolls\n",
            "Modified string :  Rollsing\n"
          ],
          "name": "stdout"
        }
      ]
    },
    {
      "cell_type": "code",
      "metadata": {
        "colab": {
          "base_uri": "https://localhost:8080/"
        },
        "id": "uppk9rYt9UXI",
        "outputId": "f4bc687d-4d17-4aa1-a738-18a025ea36db"
      },
      "source": [
        "#8) Accept a list of words and return length of longest word. \r\n",
        "\r\n",
        "l=[]\r\n",
        "n= int(input(\"Enter the number of elements in list : \"))\r\n",
        "for i in range(1,n+1):\r\n",
        "    x=input()\r\n",
        "    l.append(x)\r\n",
        "max=len(l[0])\r\n",
        "temp=l[0]\r\n",
        "for j in l:\r\n",
        "    if(len(j)>max):\r\n",
        "       max=len(j)\r\n",
        "       temp=j\r\n",
        "print(\"The word with the longest length is :\",temp)"
      ],
      "execution_count": 11,
      "outputs": [
        {
          "output_type": "stream",
          "text": [
            "Enter the number of elements in list : 4\n",
            "large\n",
            "smallest\n",
            "diplomatic\n",
            "erganomic\n",
            "The word with the longest length is : diplomatic\n"
          ],
          "name": "stdout"
        }
      ]
    },
    {
      "cell_type": "code",
      "metadata": {
        "colab": {
          "base_uri": "https://localhost:8080/"
        },
        "id": "6oJXilnN-fKM",
        "outputId": "a6805ad3-3168-465e-c74c-39b644cd9c79"
      },
      "source": [
        "#9) Construct following pattern using nested loop :\r\n",
        "\r\n",
        "for i in range(5):\r\n",
        "  for j in range(i+1):\r\n",
        "    print(\"* \",end=\"\")\r\n",
        "  print()\r\n",
        "for i in range(4):\r\n",
        "  for j in range(i, 4):\r\n",
        "    print(\"* \",end=\"\")\r\n",
        "  print()"
      ],
      "execution_count": 19,
      "outputs": [
        {
          "output_type": "stream",
          "text": [
            "* \n",
            "* * \n",
            "* * * \n",
            "* * * * \n",
            "* * * * * \n",
            "* * * * \n",
            "* * * \n",
            "* * \n",
            "* \n"
          ],
          "name": "stdout"
        }
      ]
    },
    {
      "cell_type": "code",
      "metadata": {
        "colab": {
          "base_uri": "https://localhost:8080/"
        },
        "id": "r_HZb7Nl_APa",
        "outputId": "dd190243-79b7-40ae-bd79-9918b14a234e"
      },
      "source": [
        "#10) Generate all factors of a number.\r\n",
        "\r\n",
        "n=int(input(\"Enter any number : \"))\r\n",
        "i=1\r\n",
        "print(\"All factors of\",n,\"are :\")\r\n",
        "while i<=n:\r\n",
        "  if n%i==0:\r\n",
        "    print(i)\r\n",
        "  i=i+1"
      ],
      "execution_count": 20,
      "outputs": [
        {
          "output_type": "stream",
          "text": [
            "Enter any number : 10\n",
            "All factors of 10 are :\n",
            "1\n",
            "2\n",
            "5\n",
            "10\n"
          ],
          "name": "stdout"
        }
      ]
    },
    {
      "cell_type": "code",
      "metadata": {
        "colab": {
          "base_uri": "https://localhost:8080/"
        },
        "id": "4QXzTS-D_Jsx",
        "outputId": "8c9f265c-4d4e-4b67-f490-49339877e3ad"
      },
      "source": [
        "#11) Write lambda functions to find area of square, rectangle and triangle.\r\n",
        "\r\n",
        "a=int(input(\"Enter the side of a Square : \"))\r\n",
        "sq_area=lambda a:a**2\r\n",
        "print(\"Area of the square is : \",sq_area(a))\r\n",
        "l=int(input(\"Enter length of a Rectangle: \"))\r\n",
        "w=int(input(\"Enter width : \"))\r\n",
        "rect_area=lambda l,w : l*w\r\n",
        "print(\"Area of the rectangle is : \",rect_area(l,w))\r\n",
        "a=int(input(\"Enter the value of First side of a Triangle : \"))\r\n",
        "b=int(input(\"Enter the value of Second side of a Triangle : \"))\r\n",
        "c=int(input(\"Enter the value of Third side of a Triangle : \"))\r\n",
        "s=(a+b+c)/2\r\n",
        "t_area=lambda s,a,b,c : (s*(s-a)*(s-b)*(s-c))**0.5\r\n",
        "print(\"Area of triangle :\",t_area(s,a,b,c))"
      ],
      "execution_count": 22,
      "outputs": [
        {
          "output_type": "stream",
          "text": [
            "Enter the side of a Square : 4\n",
            "Area of the square is :  16\n",
            "Enter length of a Rectangle: 5\n",
            "Enter width : 6\n",
            "Area of the rectangle is :  30\n",
            "Enter the value of First side of a Triangle : 2\n",
            "Enter the value of Second side of a Triangle : 3\n",
            "Enter the value of Third side of a Triangle : 4\n",
            "Area of triangle : 2.9047375096555625\n"
          ],
          "name": "stdout"
        }
      ]
    }
  ]
}